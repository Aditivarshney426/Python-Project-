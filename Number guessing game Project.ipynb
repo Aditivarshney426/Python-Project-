{
 "cells": [
  {
   "cell_type": "code",
   "execution_count": 11,
   "id": "2908b8d7",
   "metadata": {},
   "outputs": [
    {
     "name": "stdout",
     "output_type": "stream",
     "text": [
      "Enter Lower bound: 1\n",
      "Enter Upper Bound: 50\n",
      "you have only 7 attempts to try\n",
      "Guess a number: 45\n",
      "You guessed too high!\n",
      "Guess a number: 30\n",
      "You guessed too small!\n",
      "Guess a number: 40\n",
      "You guessed too high!\n",
      "Guess a number: 35\n",
      "You guessed too small!\n",
      "Guess a number: 37\n",
      "You guessed too high!\n",
      "Guess a number: 36\n",
      "Congratulations you did it in 6 tries\n"
     ]
    }
   ],
   "source": [
    "\n",
    "\n",
    "# Input the lower and upper bounds\n",
    "lower = int(input(\"Enter Lower bound: \"))\n",
    "upper = int(input(\"Enter Upper Bound: \"))\n",
    "\n",
    "# Generate a random number between lower and upper bounds\n",
    "number_to_guess = random.randint(lower, upper)\n",
    "# Maximum attempts allowed\n",
    "max_attempts = 7\n",
    "print(\"you have only\",max_attempts,\"attempts to try\")\n",
    "\n",
    "# Start the guessing game\n",
    "attempts = 0\n",
    "while attempts < max_attempts:\n",
    "    guess = int(input(\"Guess a number: \"))\n",
    "    attempts += 1\n",
    "\n",
    "    if guess < number_to_guess:\n",
    "        print(\"You guessed too small!\")\n",
    "    elif guess > number_to_guess:\n",
    "        print(\"You guessed too high!\")\n",
    "    else:\n",
    "        print(\"Congratulations you did it in\",attempts,\"tries\")\n",
    "        break\n",
    "else:\n",
    "    print(f\"Sorry, you've used all {max_attempts} chances. The number was {number_to_guess}.\")\n"
   ]
  },
  {
   "cell_type": "code",
   "execution_count": null,
   "id": "b7640a41",
   "metadata": {},
   "outputs": [],
   "source": []
  },
  {
   "cell_type": "code",
   "execution_count": null,
   "id": "74fb613b",
   "metadata": {},
   "outputs": [],
   "source": []
  }
 ],
 "metadata": {
  "kernelspec": {
   "display_name": "Python 3 (ipykernel)",
   "language": "python",
   "name": "python3"
  },
  "language_info": {
   "codemirror_mode": {
    "name": "ipython",
    "version": 3
   },
   "file_extension": ".py",
   "mimetype": "text/x-python",
   "name": "python",
   "nbconvert_exporter": "python",
   "pygments_lexer": "ipython3",
   "version": "3.10.9"
  }
 },
 "nbformat": 4,
 "nbformat_minor": 5
}
